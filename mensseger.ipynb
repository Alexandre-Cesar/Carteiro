{
 "cells": [
  {
   "cell_type": "markdown",
   "metadata": {},
   "source": [
    "### Enviar mensagem apenas"
   ]
  },
  {
   "cell_type": "code",
   "execution_count": null,
   "metadata": {},
   "outputs": [
    {
     "data": {
      "text/plain": [
       "{}"
      ]
     },
     "execution_count": 11,
     "metadata": {},
     "output_type": "execute_result"
    }
   ],
   "source": [
    "from email.message import EmailMessage\n",
    "import smtplib\n",
    "\n",
    "server = smtplib.SMTP(\"smtp.gmail.com\", 587)\n",
    "server.starttls()\n",
    "\n",
    "server.login('alexandre.cesardf@gmail.com','rixu zlxk ygsn mrlk')\n",
    "\n",
    "msg = EmailMessage()\n",
    "msg[\"From\"] = \"alexandre.cesardf@gmail.com\"\n",
    "msg[\"To\"] = \"xanxanjiove@gmail.com\"\n",
    "msg[\"Subject\"] = \"Teste de e-mail automatico\"\n",
    "msg.set_content(\"Deu certo ein?👍🏽 \" )\n",
    "\n",
    "server.sendmail(\"alexandre.cesardf@gmail.com\", \"xanxanjiove@gmail.com\", msg.as_string())"
   ]
  },
  {
   "cell_type": "markdown",
   "metadata": {},
   "source": [
    "### Enviar com anexo"
   ]
  },
  {
   "cell_type": "code",
   "execution_count": 14,
   "metadata": {},
   "outputs": [],
   "source": [
    "import smtplib\n",
    "from email.mime.multipart import MIMEMultipart\n",
    "from email.mime.text import MIMEText\n",
    "from email.mime.base import MIMEBase\n",
    "from email import encoders\n",
    "import os\n",
    "\n",
    "def adiciona_anexo(file, file_tipe):\n",
    "    filename = file.split('.')[0]\n",
    "    # Substitua pelo nome do seu arquivo\n",
    "    attachment = open(file, \"rb\")\n",
    "    part = MIMEBase('application', 'octet-stream')\n",
    "    part.set_payload(attachment.read())\n",
    "    encoders.encode_base64(part)\n",
    "    part.add_header('Content-Disposition', f\"attachment; filename= {filename}.{file_tipe}\")\n",
    "    return part\n",
    "\n",
    "\n",
    "def envia_email(sender, receiver, password):\n",
    "    \n",
    "    #corpo do e-mail\n",
    "    message = MIMEMultipart()\n",
    "    message['From'] = sender\n",
    "    message['To'] = receiver\n",
    "    message['Subject'] = 'RENAEST'\n",
    "\n",
    "    #texto do e-mail\n",
    "    html = \"mensage.html\"\n",
    "    body = open(html, 'r').read()\n",
    "    message.attach(MIMEText(body, 'html'))\n",
    "\n",
    "    # Anexo do arquivo .RA\n",
    "    filename = \"2022-2023_footbal_players_status.csv\"\n",
    "    part = adiciona_anexo(filename, 'RA')\n",
    "    message.attach(part)\n",
    "\n",
    "    # Anexo de planilha\n",
    "    part = adiciona_anexo(filename, 'csv')\n",
    "    message.attach(part)\n",
    "\n",
    "    # Configuração do SMTP\n",
    "    with smtplib.SMTP_SSL('smtp.gmail.com', 465) as smtp:\n",
    "        smtp.login(sender, password)\n",
    "        text = message.as_string()\n",
    "        smtp.sendmail(sender, receiver, text)    \n",
    "    print(f'enviado para {receiver}')\n"
   ]
  },
  {
   "cell_type": "code",
   "execution_count": 16,
   "metadata": {},
   "outputs": [
    {
     "name": "stdout",
     "output_type": "stream",
     "text": [
      "enviado para alexandre.cesardf@hotmail.com\n",
      "enviado para nanaroliveira@hotmail.com\n",
      "enviado para xanxanjiove@gmail.com\n"
     ]
    }
   ],
   "source": [
    "# Dados da sua conta\n",
    "sender = \"alexandre.cesardf@gmail.com\"\n",
    "receivers_list = ['alexandre.cesardf@hotmail.com', 'nanaroliveira@hotmail.com','xanxanjiove@gmail.com']\n",
    "password = \"rixu zlxk ygsn mrlk\"\n",
    "\n",
    "for receiver in receivers_list:\n",
    "    envia_email(sender, receiver, password)"
   ]
  }
 ],
 "metadata": {
  "kernelspec": {
   "display_name": "base",
   "language": "python",
   "name": "python3"
  },
  "language_info": {
   "codemirror_mode": {
    "name": "ipython",
    "version": 3
   },
   "file_extension": ".py",
   "mimetype": "text/x-python",
   "name": "python",
   "nbconvert_exporter": "python",
   "pygments_lexer": "ipython3",
   "version": "3.9.7"
  }
 },
 "nbformat": 4,
 "nbformat_minor": 2
}
