{
 "cells": [
  {
   "cell_type": "markdown",
   "metadata": {},
   "source": [
    "#### Importando a classe e o arquivo com as informações de e-mail em formato .json."
   ]
  },
  {
   "cell_type": "code",
   "execution_count": 1,
   "metadata": {},
   "outputs": [],
   "source": [
    "from carteiro import Carta\n",
    "import json\n",
    "\n",
    "jf = open('configs.json')\n",
    "email_configs = json.load(jf)"
   ]
  },
  {
   "cell_type": "markdown",
   "metadata": {},
   "source": [
    "#### Armazenando sobre email  em variáveis."
   ]
  },
  {
   "cell_type": "code",
   "execution_count": 7,
   "metadata": {},
   "outputs": [],
   "source": [
    "sender = email_configs['sender']\n",
    "receiver = email_configs['receiver']\n",
    "password = email_configs['password']\n",
    "host = email_configs['host']\n",
    "port = email_configs['port']"
   ]
  },
  {
   "cell_type": "markdown",
   "metadata": {},
   "source": [
    "#### Arquivo de e-mail e anexo\n"
   ]
  },
  {
   "cell_type": "code",
   "execution_count": 3,
   "metadata": {},
   "outputs": [],
   "source": [
    "html_file = 'message.html'\n",
    "anexos ={\n",
    "    'anexos/2022-2023_footbal_players_status.csv': 'csv',\n",
    "    'anexos/2022-2023_footbal_players_status.txt': 'txt'\n",
    "}"
   ]
  },
  {
   "cell_type": "markdown",
   "metadata": {},
   "source": [
    "#### Código para enviar e-mail"
   ]
  },
  {
   "cell_type": "code",
   "execution_count": 9,
   "metadata": {},
   "outputs": [
    {
     "name": "stdout",
     "output_type": "stream",
     "text": [
      "enviado para xanxanjiove@gmail.com\n"
     ]
    }
   ],
   "source": [
    "mensageiro = Carta(sender, receiver, password, host, port)\n",
    "\n",
    "\n",
    "mensagem = mensageiro.escrever_email_anexado('envio de mensagem', html_file, ishtml=True, anexos= anexos)\n",
    "\n",
    "mensageiro.enviar_email(mensagem)"
   ]
  }
 ],
 "metadata": {
  "kernelspec": {
   "display_name": "base",
   "language": "python",
   "name": "python3"
  },
  "language_info": {
   "codemirror_mode": {
    "name": "ipython",
    "version": 3
   },
   "file_extension": ".py",
   "mimetype": "text/x-python",
   "name": "python",
   "nbconvert_exporter": "python",
   "pygments_lexer": "ipython3",
   "version": "3.9.7"
  }
 },
 "nbformat": 4,
 "nbformat_minor": 2
}
